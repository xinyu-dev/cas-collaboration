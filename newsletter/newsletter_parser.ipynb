{
 "cells": [
  {
   "cell_type": "markdown",
   "metadata": {
    "collapsed": true,
    "pycharm": {
     "name": "#%% md\n"
    }
   },
   "source": [
    "# Newsletter Parser\n",
    "\n",
    "Authors: Meng W, X Yu\n",
    "\n",
    "Updated on : 7/17/20"
   ]
  },
  {
   "cell_type": "markdown",
   "source": [
    "# Background\n",
    "Using beautiful soup to generate html codes for newsletters"
   ],
   "metadata": {
    "collapsed": false,
    "pycharm": {
     "name": "#%% md\n"
    }
   }
  },
  {
   "cell_type": "markdown",
   "source": [
    "# Beautiful Soup Quick Start\n",
    "\n",
    "See `bs_quick_reference.md` for quick start. Full documentation is available [here](https://www.crummy.com/software/BeautifulSoup/bs4/doc/)\n",
    "\n"
   ],
   "metadata": {
    "collapsed": false,
    "pycharm": {
     "name": "#%% md\n"
    }
   }
  }
 ],
 "metadata": {
  "kernelspec": {
   "display_name": "Python 3",
   "language": "python",
   "name": "python3"
  },
  "language_info": {
   "codemirror_mode": {
    "name": "ipython",
    "version": 2
   },
   "file_extension": ".py",
   "mimetype": "text/x-python",
   "name": "python",
   "nbconvert_exporter": "python",
   "pygments_lexer": "ipython2",
   "version": "2.7.6"
  }
 },
 "nbformat": 4,
 "nbformat_minor": 0
}