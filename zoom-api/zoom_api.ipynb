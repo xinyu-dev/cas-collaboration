{
 "cells": [
  {
   "cell_type": "code",
   "execution_count": 42,
   "metadata": {
    "collapsed": true
   },
   "outputs": [],
   "source": [
    "import pandas as pd\n",
    "import numpy as np\n",
    "import http.client\n",
    "import requests\n",
    "import json\n",
    "from dotenv import load_dotenv\n",
    "import os"
   ]
  },
  {
   "cell_type": "code",
   "execution_count": 48,
   "outputs": [
    {
     "data": {
      "text/plain": "True"
     },
     "execution_count": 48,
     "metadata": {},
     "output_type": "execute_result"
    }
   ],
   "source": [
    "# load environmental variables containing ZOOM tokens\n",
    "load_dotenv('../.env')"
   ],
   "metadata": {
    "collapsed": false,
    "pycharm": {
     "name": "#%%\n"
    }
   }
  },
  {
   "cell_type": "markdown",
   "source": [
    "# Tokens and  Constants"
   ],
   "metadata": {
    "collapsed": false,
    "pycharm": {
     "name": "#%% md\n"
    }
   }
  },
  {
   "cell_type": "code",
   "execution_count": 49,
   "outputs": [],
   "source": [
    "# JWT token valid till 04/18/2022\n",
    "token = os.getenv('ZOOM_JWT_TOKEN')\n",
    "\n",
    "# cas main account user\n",
    "user_id = os.getenv('ZOOM_USER_ID')\n",
    "\n",
    "# general header using the jwt token\n",
    "headers = {\n",
    "    'authorization': \"Bearer \"+token,\n",
    "    'content-type': \"application/json\"\n",
    "}"
   ],
   "metadata": {
    "collapsed": false,
    "pycharm": {
     "name": "#%%\n"
    }
   }
  },
  {
   "cell_type": "markdown",
   "source": [
    "# List User\n",
    "This is where you get the user ID"
   ],
   "metadata": {
    "collapsed": false,
    "pycharm": {
     "name": "#%% md\n"
    }
   }
  },
  {
   "cell_type": "code",
   "execution_count": 50,
   "outputs": [],
   "source": [
    "conn = http.client.HTTPSConnection(\"api.zoom.us\")\n",
    "conn.request(\"GET\", \"/v2/users?status=active&page_size=30&page_number=1\", headers=headers)\n",
    "\n",
    "res = conn.getresponse()\n",
    "data = res.read()\n",
    "\n",
    "# print(data.decode(\"utf-8\"))"
   ],
   "metadata": {
    "collapsed": false,
    "pycharm": {
     "name": "#%%\n"
    }
   }
  },
  {
   "cell_type": "markdown",
   "source": [
    "# Webinars"
   ],
   "metadata": {
    "collapsed": false,
    "pycharm": {
     "name": "#%% md\n"
    }
   }
  },
  {
   "cell_type": "markdown",
   "source": [
    "## List webinar"
   ],
   "metadata": {
    "collapsed": false,
    "pycharm": {
     "name": "#%% md\n"
    }
   }
  },
  {
   "cell_type": "code",
   "execution_count": 52,
   "outputs": [
    {
     "name": "stdout",
     "output_type": "stream",
     "text": [
      "{\n",
      "    \"page_size\": 30,\n",
      "    \"total_records\": 9,\n",
      "    \"next_page_token\": \"\",\n",
      "    \"webinars\": [\n",
      "        {\n",
      "            \"uuid\": \"qRp02wqCTS+sXamgPmBl3g==\",\n",
      "            \"id\": 99960966209,\n",
      "            \"host_id\": \"wXKfjqV-Rhy76M7FGkiOXw\",\n",
      "            \"topic\": \"Rehearsal:  Antibody Drug Conjugate Technology\",\n",
      "            \"type\": 5,\n",
      "            \"start_time\": \"2021-02-20T01:00:00Z\",\n",
      "            \"duration\": 60,\n",
      "            \"timezone\": \"Asia/Shanghai\",\n",
      "            \"created_at\": \"2021-02-08T08:54:46Z\",\n",
      "            \"join_url\": \"https://zoom.us/j/99960966209?pwd=TFdQYzZaU2RhT0R4VldFaElITXR5Zz09\"\n",
      "        },\n",
      "        {\n",
      "            \"uuid\": \"C39bPBFOSrKm7Su6VLXHdA==\",\n",
      "            \"id\": 96915108432,\n",
      "            \"host_id\": \"wXKfjqV-Rhy76M7FGkiOXw\",\n",
      "            \"topic\": \"Antibody Drug Conjugate Technology\\uff1bMolecular Designs and Innovation Challenges\",\n",
      "            \"type\": 5,\n",
      "            \"start_time\": \"2021-02-28T02:00:00Z\",\n",
      "            \"duration\": 60,\n",
      "            \"timezone\": \"Asia/Shanghai\",\n",
      "            \"agenda\": \"Tumors account for the third largest mortality rate worldwide. Antibody drug conjugates (ADC) compromise an antibody conjugated with highly toxic drugs through chemical connectors or linkers. ADC is a model of precision medicine for the combination o\",\n",
      "            \"created_at\": \"2021-02-04T12:35:04Z\",\n",
      "            \"join_url\": \"https://zoom.us/j/96915108432?pwd=enJsZE9DNHdQRDhDbUYrSWV3ZlIxdz09\"\n",
      "        },\n",
      "        {\n",
      "            \"uuid\": \"Thg0ySSARe+oiBQcZuzE7A==\",\n",
      "            \"id\": 94346301581,\n",
      "            \"host_id\": \"wXKfjqV-Rhy76M7FGkiOXw\",\n",
      "            \"topic\": \"[Rehearsal] \\u7ec6\\u80de\\u56e0\\u5b50\\u524d\\u836f\\uff1a\\u73b0\\u72b6\\u548c\\u524d\\u666f Cytokine Prodrugs: Current State and Prospects\",\n",
      "            \"type\": 5,\n",
      "            \"start_time\": \"2021-03-21T01:00:00Z\",\n",
      "            \"duration\": 60,\n",
      "            \"timezone\": \"America/New_York\",\n",
      "            \"agenda\": \"test\",\n",
      "            \"created_at\": \"2021-02-27T20:04:52Z\",\n",
      "            \"join_url\": \"https://zoom.us/j/94346301581?pwd=dFIxNzVBUit6QlZYSnZvd3BtOEVYUT09\"\n",
      "        },\n",
      "        {\n",
      "            \"uuid\": \"GLo4hV2LQgWRz62LyKMIlg==\",\n",
      "            \"id\": 95276374746,\n",
      "            \"host_id\": \"wXKfjqV-Rhy76M7FGkiOXw\",\n",
      "            \"topic\": \"\\u7ec6\\u80de\\u56e0\\u5b50\\u524d\\u836f\\uff1a\\u73b0\\u72b6\\u548c\\u524d\\u666f Cytokine Prodrugs: Current State and Prospects\",\n",
      "            \"type\": 5,\n",
      "            \"start_time\": \"2021-03-28T01:00:00Z\",\n",
      "            \"duration\": 60,\n",
      "            \"timezone\": \"America/New_York\",\n",
      "            \"created_at\": \"2021-02-27T20:01:33Z\",\n",
      "            \"join_url\": \"https://zoom.us/j/95276374746?pwd=aHFxajhJYzRCNnR3YjM2Rkg1OGRKZz09\"\n",
      "        },\n",
      "        {\n",
      "            \"uuid\": \"Q1RqutikTAOpqdHEJOdtpg==\",\n",
      "            \"id\": 99260826303,\n",
      "            \"host_id\": \"wXKfjqV-Rhy76M7FGkiOXw\",\n",
      "            \"topic\": \"Rehearsal : \\u89c4\\u8303\\u5316\\u751f\\u7269\\u5206\\u6790\\u5728\\u652f\\u6301\\u5168\\u7403\\u5f00\\u53d1\\u6cbb\\u7597\\u6297\\u4f53\\u4e2d\\u7684\\u5b9e\\u9645\\u8003\\u8651\\u548c\\u89e3\\u51b3\\u65b9\\u6848\",\n",
      "            \"type\": 5,\n",
      "            \"start_time\": \"2021-04-18T01:00:00Z\",\n",
      "            \"duration\": 60,\n",
      "            \"timezone\": \"America/New_York\",\n",
      "            \"agenda\": \"test\",\n",
      "            \"created_at\": \"2021-04-07T15:11:22Z\",\n",
      "            \"join_url\": \"https://zoom.us/j/99260826303?pwd=QWRWbGdrWWo5K2MrRkJSWEt3WnBhdz09\"\n",
      "        },\n",
      "        {\n",
      "            \"uuid\": \"Linp6IbnQRKUmg5SB8F57w==\",\n",
      "            \"id\": 96927835069,\n",
      "            \"host_id\": \"wXKfjqV-Rhy76M7FGkiOXw\",\n",
      "            \"topic\": \"\\u89c4\\u8303\\u5316\\u751f\\u7269\\u5206\\u6790\\u5728\\u652f\\u6301\\u5168\\u7403\\u5316\\u5f00\\u53d1\\u6cbb\\u7597\\u6297\\u4f53\\u4e2d\\u7684\\u5b9e\\u9645\\u8003\\u8651\\u548c\\u89e3\\u51b3\\u65b9\\u6848\",\n",
      "            \"type\": 5,\n",
      "            \"start_time\": \"2021-04-25T01:00:00Z\",\n",
      "            \"duration\": 60,\n",
      "            \"timezone\": \"America/New_York\",\n",
      "            \"agenda\": \"test\",\n",
      "            \"created_at\": \"2021-04-07T04:57:06Z\",\n",
      "            \"join_url\": \"https://zoom.us/j/96927835069?pwd=dXNMeDRBOTR0ajlnTUZMSjlLMEdGUT09\"\n",
      "        },\n",
      "        {\n",
      "            \"uuid\": \"D9QJsnDxSMSdkfhv+r09JQ==\",\n",
      "            \"id\": 94535903449,\n",
      "            \"host_id\": \"wXKfjqV-Rhy76M7FGkiOXw\",\n",
      "            \"topic\": \"ADC meeting\",\n",
      "            \"type\": 5,\n",
      "            \"start_time\": \"2021-05-09T01:00:00Z\",\n",
      "            \"duration\": 60,\n",
      "            \"timezone\": \"America/New_York\",\n",
      "            \"created_at\": \"2021-05-08T21:53:36Z\",\n",
      "            \"join_url\": \"https://zoom.us/j/94535903449\"\n",
      "        },\n",
      "        {\n",
      "            \"uuid\": \"hOcNCTV2Rv2tDhNqpjwoGw==\",\n",
      "            \"id\": 96528400763,\n",
      "            \"host_id\": \"wXKfjqV-Rhy76M7FGkiOXw\",\n",
      "            \"topic\": \"2021 CAS mAbTalk : \\u201cNew Horizon of Antibody-Drug Conjugate (ADC)\\u201d Virtual Symposium\",\n",
      "            \"type\": 5,\n",
      "            \"start_time\": \"2021-05-23T00:00:00Z\",\n",
      "            \"duration\": 300,\n",
      "            \"timezone\": \"America/New_York\",\n",
      "            \"created_at\": \"2021-04-13T15:35:24Z\",\n",
      "            \"join_url\": \"https://zoom.us/j/96528400763\"\n",
      "        },\n",
      "        {\n",
      "            \"uuid\": \"MDdF8VVzTHOdO5Iy4mxRjg==\",\n",
      "            \"id\": 99602079275,\n",
      "            \"host_id\": \"wXKfjqV-Rhy76M7FGkiOXw\",\n",
      "            \"topic\": \"test webinar - please keep this - I am using it to test new webiste\",\n",
      "            \"type\": 5,\n",
      "            \"start_time\": \"2021-07-23T03:00:00Z\",\n",
      "            \"duration\": 60,\n",
      "            \"timezone\": \"America/New_York\",\n",
      "            \"agenda\": \"test\",\n",
      "            \"created_at\": \"2021-02-17T03:44:15Z\",\n",
      "            \"join_url\": \"https://zoom.us/j/99602079275?pwd=bXhPbTZtWXRYQUFtT3VnQXY2VEhXdz09\"\n",
      "        }\n",
      "    ]\n",
      "}\n"
     ]
    },
    {
     "ename": "TypeError",
     "evalue": "'NoneType' object is not subscriptable",
     "output_type": "error",
     "traceback": [
      "\u001B[0;31m---------------------------------------------------------------------------\u001B[0m",
      "\u001B[0;31mTypeError\u001B[0m                                 Traceback (most recent call last)",
      "\u001B[0;32m<ipython-input-52-5dad9fb39432>\u001B[0m in \u001B[0;36m<module>\u001B[0;34m\u001B[0m\n\u001B[1;32m      5\u001B[0m )\n\u001B[1;32m      6\u001B[0m \u001B[0mdata_json\u001B[0m \u001B[0;34m=\u001B[0m \u001B[0mdata\u001B[0m\u001B[0;34m.\u001B[0m\u001B[0mjson\u001B[0m\u001B[0;34m(\u001B[0m\u001B[0;34m)\u001B[0m\u001B[0;34m\u001B[0m\u001B[0;34m\u001B[0m\u001B[0m\n\u001B[0;32m----> 7\u001B[0;31m \u001B[0mprint\u001B[0m\u001B[0;34m(\u001B[0m\u001B[0mjson\u001B[0m\u001B[0;34m.\u001B[0m\u001B[0mdumps\u001B[0m\u001B[0;34m(\u001B[0m\u001B[0mdata_json\u001B[0m\u001B[0;34m,\u001B[0m \u001B[0mindent\u001B[0m\u001B[0;34m=\u001B[0m\u001B[0;36m4\u001B[0m\u001B[0;34m)\u001B[0m\u001B[0;34m)\u001B[0m\u001B[0;34m[\u001B[0m\u001B[0;34m:\u001B[0m\u001B[0;36m3\u001B[0m\u001B[0;34m]\u001B[0m\u001B[0;34m\u001B[0m\u001B[0;34m\u001B[0m\u001B[0m\n\u001B[0m\u001B[1;32m      8\u001B[0m \u001B[0;34m\u001B[0m\u001B[0m\n",
      "\u001B[0;31mTypeError\u001B[0m: 'NoneType' object is not subscriptable"
     ]
    }
   ],
   "source": [
    "url = 'https://api.zoom.us/v2/users/{userId}/webinars'.format(userId=user_id)\n",
    "data = requests.get(\n",
    "    url = url,\n",
    "    headers =headers\n",
    ")\n",
    "data_json = data.json()\n",
    "print(json.dumps(data_json, indent=4))[:3]"
   ],
   "metadata": {
    "collapsed": false,
    "pycharm": {
     "name": "#%%\n"
    }
   }
  },
  {
   "cell_type": "markdown",
   "source": [
    "## List Webinar Registrants"
   ],
   "metadata": {
    "collapsed": false,
    "pycharm": {
     "name": "#%% md\n"
    }
   }
  },
  {
   "cell_type": "code",
   "execution_count": 54,
   "outputs": [],
   "source": [
    "# List webinar registrants\n",
    "webinar_id = 96528400763\n",
    "url = 'https://api.zoom.us/v2/webinars/{webinarId}/registrants'.format(webinarId=webinar_id)\n",
    "params = {\n",
    "    'page_size':300, # max page size is 300,\n",
    "}\n",
    "# initiate a list of registrants\n",
    "registrants = []\n",
    "\n",
    "# if there is a next page token returned, this means that there is additional informaiton you need call using the next-page token. If there the next page token is an empty string, then you have retrieved all data\n",
    "next_page_token = None\n",
    "\n",
    "while next_page_token !='':\n",
    "\n",
    "    # if this is not the initial run (where next_page_token is None), then add next_page_token parameter\n",
    "    if next_page_token is not None:\n",
    "        params['next_page_token'] = next_page_token\n",
    "\n",
    "    data = requests.get(\n",
    "        url = url,\n",
    "        headers =headers,\n",
    "        params=params\n",
    "    )\n",
    "    data_json = data.json()\n",
    "\n",
    "    # retrieve next page token\n",
    "    next_page_token = data_json['next_page_token']\n",
    "\n",
    "    # add registrants to list\n",
    "    registrants += (data_json['registrants'])\n",
    "\n",
    "# double check that the length you retrieved is equal to total number of registrants\n",
    "assert len(registrants) == data_json['total_records'], 'ERROR: The number of registrants you retrieved is ' + str(len(registrants)) + ', but the JSON returned ' + str(data_json['total_records']) +' records.'\n",
    "# print(json.dumps(data_json, indent=4))"
   ],
   "metadata": {
    "collapsed": false,
    "pycharm": {
     "name": "#%%\n"
    }
   }
  },
  {
   "cell_type": "code",
   "execution_count": 57,
   "outputs": [
    {
     "name": "stdout",
     "output_type": "stream",
     "text": [
      "Total registrants:  413\n"
     ]
    }
   ],
   "source": [
    "# conver to pandas dataframe\n",
    "first_name = []\n",
    "last_name = []\n",
    "email = []\n",
    "\n",
    "for record in registrants:\n",
    "    try:\n",
    "        first_name.append(record['first_name'])\n",
    "    except:\n",
    "        first_name.append(np.nan)\n",
    "    try:\n",
    "        last_name.append(record['last_name'])\n",
    "    except:\n",
    "        last_name.append(np.nan)\n",
    "    try:\n",
    "        email.append(record['email'])\n",
    "    except:\n",
    "        email.append(np.nan)\n",
    "\n",
    "df = pd.DataFrame(\n",
    "    {\n",
    "        'first_name': first_name,\n",
    "        'last_name': last_name,\n",
    "        'email': email\n",
    "    }\n",
    ")\n",
    "\n",
    "# check to see if email contains null value\n",
    "print(\"Total registrants: \", df.shape[0])\n",
    "\n",
    "# export records where email is not null\n",
    "df_clean = df[pd.notna(df.email)]\n",
    "df_clean.to_csv('cas-data/050821-adc-registrants.csv', index=False)"
   ],
   "metadata": {
    "collapsed": false,
    "pycharm": {
     "name": "#%%\n"
    }
   }
  },
  {
   "cell_type": "code",
   "execution_count": null,
   "outputs": [],
   "source": [],
   "metadata": {
    "collapsed": false,
    "pycharm": {
     "name": "#%%\n"
    }
   }
  }
 ],
 "metadata": {
  "kernelspec": {
   "name": "pycharm-ace65ce4",
   "language": "python",
   "display_name": "PyCharm (CAS)"
  },
  "language_info": {
   "codemirror_mode": {
    "name": "ipython",
    "version": 2
   },
   "file_extension": ".py",
   "mimetype": "text/x-python",
   "name": "python",
   "nbconvert_exporter": "python",
   "pygments_lexer": "ipython2",
   "version": "2.7.6"
  }
 },
 "nbformat": 4,
 "nbformat_minor": 0
}