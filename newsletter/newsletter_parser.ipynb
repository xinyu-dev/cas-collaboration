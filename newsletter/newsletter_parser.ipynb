{
 "cells": [
  {
   "cell_type": "markdown",
   "metadata": {
    "collapsed": true,
    "pycharm": {
     "name": "#%% md\n"
    }
   },
   "source": [
    "# Newsletter Parser\n",
    "\n",
    "Authors: Meng W, X Yu\n",
    "\n",
    "Updated on : 7/17/20"
   ]
  },
  {
   "cell_type": "markdown",
   "source": [
    "# Background"
   ],
   "metadata": {
    "collapsed": false,
    "pycharm": {
     "name": "#%% md\n"
    }
   }
  },
  {
   "cell_type": "markdown",
   "source": [
    "## Description\n",
    "Using beautiful soup to generate html codes for newsletters"
   ],
   "metadata": {
    "collapsed": false,
    "pycharm": {
     "name": "#%% md\n"
    }
   }
  },
  {
   "cell_type": "markdown",
   "source": [
    "## Project Folder Structure\n",
    "\n",
    "- **newsletter_parser**: Python package containing the codes for generating different types of newsletters\n",
    "- **data**: input data sources, usually **.csv** format\n",
    "- **examples**: examples of final html output.\n",
    "- **output**: output of final html codes generated from the script\n",
    "- **templates**: input templates for parsing by bs4.\n"
   ],
   "metadata": {
    "collapsed": false,
    "pycharm": {
     "name": "#%% md\n"
    }
   }
  },
  {
   "cell_type": "markdown",
   "source": [
    "# Example Usage"
   ],
   "metadata": {
    "collapsed": false,
    "pycharm": {
     "name": "#%% md\n"
    }
   }
  },
  {
   "cell_type": "code",
   "execution_count": 1,
   "outputs": [],
   "source": [
    "import bs4\n",
    "import  newsletter_parser.JournalNewsPrep as journalNews  # create an alias to avoid namespace conflicts"
   ],
   "metadata": {
    "collapsed": false,
    "pycharm": {
     "name": "#%%\n"
    }
   }
  },
  {
   "cell_type": "markdown",
   "source": [
    "## Get html code for journal news announcement emails"
   ],
   "metadata": {
    "collapsed": false,
    "pycharm": {
     "name": "#%% md\n"
    }
   }
  },
  {
   "cell_type": "code",
   "execution_count": 2,
   "outputs": [],
   "source": [
    "myJournalNews=journalNews.JournalNews(\n",
    "    date='May 24, 2020',\n",
    "\n",
    "    title='Perspectives on the development of neutralizing antibodies against SARS-CoV-2',\n",
    "\n",
    "    editor_notes='We are pleased to introduce a recent article published in Antibody Therapeutics, an official journal of Chinese Antibody Society, entitled “Perspectives on the development of neutralizing antibodies against SARS-CoV-2”. The author is Dr. Mitchell Ho, Senior Investigator at National Cancer Institute, NIH, USA. It is the 3rd COVID-19 related articles published in Antibody Therapeutics through the fast track review process which took only 13 days from submission to online publication. The following is the abstract of this review article.',\n",
    "\n",
    "    figure_caption='Figure 1. Development of neutralizing antibodies for treating COVID-19.',\n",
    "\n",
    "    url='https://academic.oup.com/abt/advance-article/doi/10.1093/abt/tbaa009/5841095',\n",
    "\n",
    "    # notice that main_text is in compressed html format\n",
    "    main_text='<p>SARS-CoV-2 gains entry to human cells through its spike (S) protein binding to angiotensin-converting enzyme 2 (ACE2). Therefore, the receptor binding domain (RBD) of the S protein is the primary target for neutralizing antibodies. Selection of broad-neutralizing antibodies against SARS-CoV-2 and SARS-CoV are attractive and might be useful for treating not only COVID-19, but also future SARS-related CoV infections. Broad-neutralizing antibodies, such as 47D11, S309, and VHH-72, have been reported to target a conserved region in the RBD of the S1 subunit. The S2 subunit required for viral membrane fusion might be another target. Due to their small size and high stability, single-domain antibodies might have the ability to be administered by an inhaler making them potentially attractive therapeutics for respiratory infections. A cocktail strategy combining two (or more) antibodies that recognize different parts of the viral surface that interact with human cells might be the most effective (see the Figure 1)</p> <p>You are welcome to read the full length of this article (currently uncorrected manuscript free of charge by clicking on link above. You are also welcome to cite this article in your own manuscripts in the future.</p>',\n",
    "\n",
    "    add_notes_title='Call for Paper On COVID-19',\n",
    "\n",
    "    add_notes_text=' <p>Antibody Therapeutics is an official journal of the Chinese Antibody Society and published by the Oxford University Press. As a peer-reviewed and open access journal, Antibody Therapeutics provides a forum for the publication of the latest advances and challenges in the discovery, research, development and methodology of therapeutic antibodies for global scientific community.</p> <p>The current COVID-19 pandemic is an unprecedented global public health challenge. Antibody Therapeutics invites papers that contribute knowledge to develop therapeutics and diagnostics strategies for our battle against COVID-19. We are particularly interested in research, method or review articles regarding discovery and engineering of COVID-19 diagnostic and therapeutic antibodies for clinical applications. Given the urgency of the current global pandemic, we will provide a fast-track option for all COVID-19 manuscripts. It will take 2 weeks or less from submission to acceptance. Manuscripts should be submitted via Antibody Therapeutics online <a href=\"https://mc.manuscriptcentral.com/abt\">submission site</a>. Authors can publish in the journal with no charge (see the <a href=\"https://academic.oup.com/abt/pages/General_Instructions\">authors’ instructions</a>).</p> <p>Correspondence or questions: <a href=\"mailto:abt@oup.com\">contact editorial office</a></p> <p><b>Editorial operation team</b></p> <p><b>Antibody Therapeutics, an official journal of Chinese Antibody Society</b></p>'\n",
    "\n",
    ")\n"
   ],
   "metadata": {
    "collapsed": false,
    "pycharm": {
     "name": "#%%\n"
    }
   }
  },
  {
   "cell_type": "code",
   "execution_count": null,
   "outputs": [],
   "source": [
    "modified_soup=journalNews.getJournalNews()\n",
    "journalNews.writeJournalNews(modified_soup, \"07-19-20 newsletter\")\n",
    "\n",
    "\n"
   ],
   "metadata": {
    "collapsed": false,
    "pycharm": {
     "name": "#%%\n"
    }
   }
  }
 ],
 "metadata": {
  "kernelspec": {
   "name": "pycharm-ace65ce4",
   "language": "python",
   "display_name": "PyCharm (WorkWeb)"
  },
  "language_info": {
   "codemirror_mode": {
    "name": "ipython",
    "version": 2
   },
   "file_extension": ".py",
   "mimetype": "text/x-python",
   "name": "python",
   "nbconvert_exporter": "python",
   "pygments_lexer": "ipython2",
   "version": "2.7.6"
  }
 },
 "nbformat": 4,
 "nbformat_minor": 0
}