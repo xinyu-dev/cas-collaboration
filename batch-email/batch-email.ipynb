{
 "cells": [
  {
   "cell_type": "markdown",
   "metadata": {
    "collapsed": true,
    "pycharm": {
     "name": "#%% md\n"
    }
   },
   "source": [
    "# Batch-send emails using a csv table"
   ]
  },
  {
   "cell_type": "code",
   "execution_count": 11,
   "outputs": [],
   "source": [
    "import smtplib, email, ssl\n",
    "import pandas as pd\n",
    "import datetime\n",
    "from email.mime.text import MIMEText\n",
    "from email.mime.multipart import MIMEMultipart\n",
    "from email.mime.application import MIMEApplication\n",
    "from bs4 import BeautifulSoup as bs\n",
    "from email.utils import formatdate\n",
    "from os.path import basename # extract basename for the file path\n",
    "from dotenv import load_dotenv\n",
    "import os"
   ],
   "metadata": {
    "collapsed": false,
    "pycharm": {
     "name": "#%%\n"
    }
   }
  },
  {
   "cell_type": "code",
   "execution_count": 10,
   "outputs": [
    {
     "name": "stdout",
     "output_type": "stream",
     "text": [
      "smtp.zoho.com\n"
     ]
    }
   ],
   "source": [
    "load_dotenv()\n",
    "\n",
    "EMAIL_HOST_PASSWORD =os.environ.get('EMAIL_HOST_PASSWORD')\n",
    "EMAIL_HOST = os.environ.get('EMAIL_HOST')\n",
    "EMAIL_HOST_USER = os.environ.get('EMAIL_HOST_USER')\n",
    "EMAIL_PORT = os.environ.get('EMAIL_PORT')"
   ],
   "metadata": {
    "collapsed": false,
    "pycharm": {
     "name": "#%%\n"
    }
   }
  },
  {
   "cell_type": "code",
   "execution_count": 26,
   "outputs": [
    {
     "data": {
      "text/plain": "   Unique ID First Name Last Name        Name   Start  Status     End  \\\n0  Volun0104    Zhuxuan        Xu  Zhuxuan Xu  2018.0  Active  2020.0   \n\n                   Email  \n0  kellen.xu@rutgers.edu  ",
      "text/html": "<div>\n<style scoped>\n    .dataframe tbody tr th:only-of-type {\n        vertical-align: middle;\n    }\n\n    .dataframe tbody tr th {\n        vertical-align: top;\n    }\n\n    .dataframe thead th {\n        text-align: right;\n    }\n</style>\n<table border=\"1\" class=\"dataframe\">\n  <thead>\n    <tr style=\"text-align: right;\">\n      <th></th>\n      <th>Unique ID</th>\n      <th>First Name</th>\n      <th>Last Name</th>\n      <th>Name</th>\n      <th>Start</th>\n      <th>Status</th>\n      <th>End</th>\n      <th>Email</th>\n    </tr>\n  </thead>\n  <tbody>\n    <tr>\n      <th>0</th>\n      <td>Volun0104</td>\n      <td>Zhuxuan</td>\n      <td>Xu</td>\n      <td>Zhuxuan Xu</td>\n      <td>2018.0</td>\n      <td>Active</td>\n      <td>2020.0</td>\n      <td>kellen.xu@rutgers.edu</td>\n    </tr>\n  </tbody>\n</table>\n</div>"
     },
     "execution_count": 26,
     "metadata": {},
     "output_type": "execute_result"
    }
   ],
   "source": [
    "# email contents\n",
    "subject = '志愿者证书-华人抗体协会感谢你的支持!'\n",
    "date = datetime.date.strftime(datetime.date.today(), '%Y-%m-%d')\n",
    "\n",
    "\n",
    "# Load dataset\n",
    "df = pd.read_csv('example/test.csv')[:1] # load 40 rows each time is OK. Sometimes server disconnects but you can pick up from where you're.\n",
    "\n",
    "df\n"
   ],
   "metadata": {
    "collapsed": false,
    "pycharm": {
     "name": "#%%\n"
    }
   }
  },
  {
   "cell_type": "code",
   "execution_count": 27,
   "outputs": [
    {
     "name": "stdout",
     "output_type": "stream",
     "text": [
      "Email with attachment Volun0104 - Zhuxuan Xu.pdf sent to kellen.xu@rutgers.edu\n"
     ]
    }
   ],
   "source": [
    "for id, name, email in zip(df['Unique ID'], df['Name'], df['Email']):\n",
    "\n",
    "    # get file name and path\n",
    "    fn = id + ' - ' + name +'.pdf'\n",
    "    fp = 'example/test/' + fn\n",
    "\n",
    "    # message\n",
    "    message = '尊敬的'+name+ \"\"\":<br><br>\n",
    "希望你一切安好。2020年就要过去了。虽然有疫情的挑战，协会今年依然有长足的进展。而这一切与你的大力支持密不可分。为了感谢你对协会的付出，协会制作了志愿者证书以聊表寸心。<u>证书请见附件</u>。 祝你在2021年万事如意! <br><br>\n",
    "华人抗体协会<br>\"\"\" + date\n",
    "\n",
    "    # Parse the html content into soup object\n",
    "    with open('template/2021-new-year.html') as temp:\n",
    "        soup=bs(temp)\n",
    "\n",
    "        # add message to soup\n",
    "        soup.find(\"p\", id=\"message\").append(message)\n",
    "        soup=soup.prettify(formatter=None)\n",
    "        soup = soup.replace('\\n', ' ').replace('\\r', ' ').replace('\\t', ' ').replace(\"\\\\'\", \" \\' \").replace('\\'re', \" are\" )\n",
    "\n",
    "    # message\n",
    "    msg = MIMEMultipart() # must reinitialize for each email\n",
    "    msg.set_charset('utf8')\n",
    "    msg['From'] = EMAIL_HOST_USER\n",
    "    msg['Subject'] = subject\n",
    "    msg['Date'] = formatdate(localtime=True)\n",
    "    msg['To'] = email\n",
    "    msg.attach(MIMEText(str(soup), 'html'))\n",
    "\n",
    "    # attach\n",
    "    with open(fp, \"rb\") as fil:\n",
    "        part = MIMEApplication(\n",
    "            fil.read(),\n",
    "            Name=basename(fp)\n",
    "        )\n",
    "    part['Content-Disposition'] = 'attachment; filename=\"%s\"' % basename(fp)\n",
    "    msg.attach(part)\n",
    "\n",
    "    # send\n",
    "    SERVER = smtplib.SMTP(EMAIL_HOST, EMAIL_PORT)\n",
    "    SERVER.connect(EMAIL_HOST, EMAIL_PORT)\n",
    "    SERVER.starttls()\n",
    "    SERVER.login(EMAIL_HOST_USER, EMAIL_HOST_PASSWORD)\n",
    "    SERVER.sendmail(\n",
    "            EMAIL_HOST_USER,\n",
    "            email,\n",
    "            msg.as_string()\n",
    "        )\n",
    "    print('Email with attachment '+ fn + ' sent to ' + email) # print this, in case server disconnects and you can resume from where it is left."
   ],
   "metadata": {
    "collapsed": false,
    "pycharm": {
     "name": "#%%\n"
    }
   }
  },
  {
   "cell_type": "code",
   "execution_count": null,
   "outputs": [],
   "source": [],
   "metadata": {
    "collapsed": false,
    "pycharm": {
     "name": "#%%\n"
    }
   }
  }
 ],
 "metadata": {
  "kernelspec": {
   "name": "pycharm-ace65ce4",
   "language": "python",
   "display_name": "PyCharm (CAS)"
  },
  "language_info": {
   "codemirror_mode": {
    "name": "ipython",
    "version": 2
   },
   "file_extension": ".py",
   "mimetype": "text/x-python",
   "name": "python",
   "nbconvert_exporter": "python",
   "pygments_lexer": "ipython2",
   "version": "2.7.6"
  }
 },
 "nbformat": 4,
 "nbformat_minor": 0
}