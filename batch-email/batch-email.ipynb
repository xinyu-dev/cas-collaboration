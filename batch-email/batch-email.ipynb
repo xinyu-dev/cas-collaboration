{
 "cells": [
  {
   "cell_type": "markdown",
   "metadata": {
    "collapsed": true,
    "pycharm": {
     "name": "#%% md\n"
    }
   },
   "source": [
    "# Batch-send emails using a csv table"
   ]
  },
  {
   "cell_type": "code",
   "execution_count": 2,
   "outputs": [],
   "source": [
    "import smtplib, email, ssl\n",
    "import pandas as pd\n",
    "import datetime\n",
    "from email.mime.text import MIMEText\n",
    "from email.mime.multipart import MIMEMultipart\n",
    "from email.mime.application import MIMEApplication\n",
    "from bs4 import BeautifulSoup as bs\n",
    "from email.utils import formatdate\n",
    "from os.path import basename # extract basename for the file path\n",
    "from dotenv import load_dotenv\n",
    "import os\n",
    "import boto3\n",
    "from botocore.exceptions import ClientError"
   ],
   "metadata": {
    "collapsed": false,
    "pycharm": {
     "name": "#%%\n"
    }
   }
  },
  {
   "cell_type": "code",
   "execution_count": null,
   "outputs": [],
   "source": [],
   "metadata": {
    "collapsed": false,
    "pycharm": {
     "name": "#%%\n"
    }
   }
  },
  {
   "cell_type": "markdown",
   "source": [
    "# Connver to Email Server"
   ],
   "metadata": {
    "collapsed": false,
    "pycharm": {
     "name": "#%% md\n"
    }
   }
  },
  {
   "cell_type": "markdown",
   "source": [
    "## Zoho\n",
    "NOT recomended due to limits of email rates. You can blocked pretty frequently if too many bounces or sending out too many emails in a short period of time."
   ],
   "metadata": {
    "collapsed": false,
    "pycharm": {
     "name": "#%% md\n"
    }
   }
  },
  {
   "cell_type": "code",
   "execution_count": 20,
   "outputs": [],
   "source": [
    "load_dotenv()\n",
    "\n",
    "EMAIL_HOST = os.environ.get('EMAIL_HOST')\n",
    "EMAIL_PORT = os.environ.get('EMAIL_PORT')\n",
    "\n",
    "# volunteer\n",
    "# EMAIL_HOST_PASSWORD =os.environ.get('EMAIL_HOST_PASSWORD')\n",
    "# EMAIL_HOST_USER = os.environ.get('EMAIL_HOST_USER')\n",
    "#management\n",
    "EMAIL_HOST_PASSWORD =os.environ.get('EMAIL_HOST_PASSWORD_MANAGEMENT')\n",
    "EMAIL_HOST_USER = os.environ.get('EMAIL_HOST_USER_MANAGEMENT')"
   ],
   "metadata": {
    "collapsed": false,
    "pycharm": {
     "name": "#%%\n"
    }
   }
  },
  {
   "cell_type": "markdown",
   "source": [
    "## AWS SES\n",
    "Recomended for production\n",
    "\n",
    "See code example [here](https://docs.aws.amazon.com/ses/latest/DeveloperGuide/examples.html)"
   ],
   "metadata": {
    "collapsed": false,
    "pycharm": {
     "name": "#%% md\n"
    }
   }
  },
  {
   "cell_type": "code",
   "execution_count": 10,
   "outputs": [
    {
     "name": "stdout",
     "output_type": "stream",
     "text": [
      "Email sent! Message ID:\n",
      "01000179b9e892bd-2d36812d-2533-4043-a3a9-992b75007ab5-000000\n"
     ]
    }
   ],
   "source": [
    "# Replace sender@example.com with your \"From\" address.\n",
    "# This address must be verified with Amazon SES.(voluntneer, no-reply)\n",
    "SENDER = \"Chinese Antibody Society <volunteer@chineseantibody.org>\"\n",
    "\n",
    "# Replace recipient@example.com with a \"To\" address. If your account\n",
    "# is still in the sandbox, this address must be verified.\n",
    "RECIPIENT = [\"gymchickyu@gmail.com\"]\n",
    "\n",
    "# If necessary, replace us-west-2 with the AWS Region you're using for Amazon SES.\n",
    "AWS_REGION = \"us-east-1\"\n",
    "\n",
    "# The subject line for the email.\n",
    "SUBJECT = \"Amazon SES Test (SDK for Python)\"\n",
    "\n",
    "# The email body for recipients with non-HTML email clients. Neglectible\n",
    "BODY_TEXT = (\"Amazon SES Test (Python)\\r\\n\"\n",
    "             \"This email was sent with Amazon SES using the \"\n",
    "             \"AWS SDK for Python (Boto).\"\n",
    "            )\n",
    "\n",
    "# The HTML body of the email.\n",
    "BODY_HTML = \"\"\"<html>\n",
    "<head></head>\n",
    "<body>\n",
    "  <h1>Amazon SES Test (SDK for Python)</h1>\n",
    "  <p>This email was sent with\n",
    "    <a href='https://aws.amazon.com/ses/'>Amazon SES</a> using the\n",
    "    <a href='https://aws.amazon.com/sdk-for-python/'>\n",
    "      AWS SDK for Python (Boto)</a>.</p>\n",
    "</body>\n",
    "</html>\n",
    "            \"\"\"\n",
    "\n",
    "# The character encoding for the email.\n",
    "CHARSET = \"UTF-8\"\n",
    "\n",
    "# Create a new SES resource and specify a region.\n",
    "client = boto3.client(\n",
    "    'ses',\n",
    "    region_name='us-east-1'\n",
    ")\n",
    "\n",
    "# Try to send the email.\n",
    "try:\n",
    "    #Provide the contents of the email.\n",
    "    response = client.send_email(\n",
    "        Destination={\n",
    "            'ToAddresses': RECIPIENT,\n",
    "        },\n",
    "        Message={\n",
    "            'Body': {\n",
    "                'Html': {\n",
    "                    'Charset': CHARSET,\n",
    "                    'Data': BODY_HTML,\n",
    "                },\n",
    "                'Text': {\n",
    "                    'Charset': CHARSET,\n",
    "                    'Data': BODY_TEXT,\n",
    "                },\n",
    "            },\n",
    "            'Subject': {\n",
    "                'Charset': CHARSET,\n",
    "                'Data': SUBJECT,\n",
    "            },\n",
    "        },\n",
    "        Source=SENDER,\n",
    "        # If you are not using a configuration set, comment or delete the\n",
    "        # following line\n",
    "        # ConfigurationSetName=CONFIGURATION_SET,\n",
    "    )\n",
    "# Display an error if something goes wrong.\n",
    "except ClientError as e:\n",
    "    print(e.response['Error']['Message'])\n",
    "else:\n",
    "    print(\"Email sent! Message ID:\"),\n",
    "    print(response['MessageId'])"
   ],
   "metadata": {
    "collapsed": false,
    "pycharm": {
     "name": "#%%\n"
    }
   }
  },
  {
   "cell_type": "code",
   "execution_count": null,
   "outputs": [],
   "source": [],
   "metadata": {
    "collapsed": false,
    "pycharm": {
     "name": "#%%\n"
    }
   }
  },
  {
   "cell_type": "markdown",
   "source": [
    "# Send email with attachments"
   ],
   "metadata": {
    "collapsed": false,
    "pycharm": {
     "name": "#%% md\n"
    }
   }
  },
  {
   "cell_type": "code",
   "execution_count": 9,
   "outputs": [
    {
     "data": {
      "text/plain": "   Unique ID First Name Last Name      Name  Start  Status   End  \\\n0  Volun0001       Jane       Doe  Jane Doe   2019  Active  2020   \n\n                 Email  \n0  youremail@gmail.com  ",
      "text/html": "<div>\n<style scoped>\n    .dataframe tbody tr th:only-of-type {\n        vertical-align: middle;\n    }\n\n    .dataframe tbody tr th {\n        vertical-align: top;\n    }\n\n    .dataframe thead th {\n        text-align: right;\n    }\n</style>\n<table border=\"1\" class=\"dataframe\">\n  <thead>\n    <tr style=\"text-align: right;\">\n      <th></th>\n      <th>Unique ID</th>\n      <th>First Name</th>\n      <th>Last Name</th>\n      <th>Name</th>\n      <th>Start</th>\n      <th>Status</th>\n      <th>End</th>\n      <th>Email</th>\n    </tr>\n  </thead>\n  <tbody>\n    <tr>\n      <th>0</th>\n      <td>Volun0001</td>\n      <td>Jane</td>\n      <td>Doe</td>\n      <td>Jane Doe</td>\n      <td>2019</td>\n      <td>Active</td>\n      <td>2020</td>\n      <td>youremail@gmail.com</td>\n    </tr>\n  </tbody>\n</table>\n</div>"
     },
     "execution_count": 9,
     "metadata": {},
     "output_type": "execute_result"
    }
   ],
   "source": [
    "# email contents\n",
    "subject = '华人抗体协会恭贺您新春快乐'\n",
    "date = datetime.date.strftime(datetime.date.today(), '%Y-%m-%d')\n",
    "\n",
    "\n",
    "# Load dataset\n",
    "df = pd.read_csv('example/test.csv')[:1] # load 40 rows each time is OK. Sometimes server disconnects but you can pick up from where you're.\n",
    "\n",
    "df\n"
   ],
   "metadata": {
    "collapsed": false,
    "pycharm": {
     "name": "#%%\n"
    }
   }
  },
  {
   "cell_type": "code",
   "execution_count": 10,
   "outputs": [
    {
     "name": "stdout",
     "output_type": "stream",
     "text": [
      "Email with attachment Volun0001 - Jane Doe.pdf sent to youremail@gmail.com\n"
     ]
    }
   ],
   "source": [
    "for id, name, email in zip(df['Unique ID'], df['Name'], df['Email']):\n",
    "\n",
    "    # get file name and path\n",
    "    fn = id + ' - ' + name +'.pdf'\n",
    "    fp = 'example/test/' + fn\n",
    "\n",
    "    # message\n",
    "    message = '尊敬的'+name+ \"\"\":<br><br>\n",
    "希望你一切安好。2020年就要过去了。虽然有疫情的挑战，协会今年依然有长足的进展。而这一切与你的大力支持密不可分。为了感谢你对协会的付出，协会制作了志愿者证书以聊表寸心。<u>证书请见附件</u>。 祝你在2021年万事如意! <br><br>\n",
    "华人抗体协会<br>\"\"\" + date\n",
    "\n",
    "    # Parse the html content into soup object\n",
    "    with open('template/2021-new-year.html') as temp:\n",
    "        soup=bs(temp)\n",
    "\n",
    "        # add message to soup\n",
    "        soup.find(\"p\", id=\"message\").append(message)\n",
    "        soup=soup.prettify(formatter=None)\n",
    "        soup = soup.replace('\\n', ' ').replace('\\r', ' ').replace('\\t', ' ').replace(\"\\\\'\", \" \\' \").replace('\\'re', \" are\" )\n",
    "\n",
    "    # message\n",
    "    msg = MIMEMultipart() # must reinitialize for each email\n",
    "    msg.set_charset('utf8')\n",
    "    msg['From'] = EMAIL_HOST_USER\n",
    "    msg['Subject'] = subject\n",
    "    msg['Date'] = formatdate(localtime=True)\n",
    "    msg['To'] = email\n",
    "    msg.attach(MIMEText(str(soup), 'html'))\n",
    "\n",
    "    # attach\n",
    "    with open(fp, \"rb\") as fil:\n",
    "        part = MIMEApplication(\n",
    "            fil.read(),\n",
    "            Name=basename(fp)\n",
    "        )\n",
    "    part['Content-Disposition'] = 'attachment; filename=\"%s\"' % basename(fp)\n",
    "    msg.attach(part)\n",
    "\n",
    "    # send\n",
    "    SERVER = smtplib.SMTP(EMAIL_HOST, EMAIL_PORT)\n",
    "    SERVER.connect(EMAIL_HOST, EMAIL_PORT)\n",
    "    SERVER.starttls()\n",
    "    SERVER.login(EMAIL_HOST_USER, EMAIL_HOST_PASSWORD)\n",
    "    SERVER.sendmail(\n",
    "            EMAIL_HOST_USER,\n",
    "            email,\n",
    "            msg.as_string()\n",
    "        )\n",
    "    print('Email with attachment '+ fn + ' sent to ' + email) # print this, in case server disconnects and you can resume from where it is left."
   ],
   "metadata": {
    "collapsed": false,
    "pycharm": {
     "name": "#%%\n"
    }
   }
  },
  {
   "cell_type": "markdown",
   "source": [
    "# Send pure html email"
   ],
   "metadata": {
    "collapsed": false
   }
  },
  {
   "cell_type": "code",
   "execution_count": null,
   "outputs": [],
   "source": [
    "# email contents\n",
    "subject = '华人抗体协会恭贺您新春快乐!'\n",
    "date = datetime.date.strftime(datetime.date.today(), '%Y-%m-%d')\n",
    "\n",
    "# Load dataset\n",
    "df = pd.read_csv('cas-data/020921-update contact list-p2.csv')# load 40 rows each time is OK. Sometimes server disconnects but you can pick up from where you're.\n",
    "\n",
    "df"
   ],
   "metadata": {
    "collapsed": false,
    "pycharm": {
     "name": "#%%\n"
    }
   }
  },
  {
   "cell_type": "code",
   "execution_count": null,
   "outputs": [],
   "source": [
    "for name, email in zip(df['Name'], df['Email']):\n",
    "\n",
    "    # message\n",
    "    message = '尊敬的 Dr.'+name+ \"\"\"<br>感谢您对华人抗体协会一如既往地支持和鼓励。值此新春佳节，祝您和家人春节快乐，身体健康，万事如意！<br><br>此致<br>华人抗体协会<br>2021年农历新年<br>\n",
    "    \"\"\" + date\n",
    "\n",
    "    # Parse the html content into soup object\n",
    "    with open('template/2021-new-year.html') as temp:\n",
    "        soup=bs(temp)\n",
    "\n",
    "        # add message to soup\n",
    "        soup.find(\"p\", id=\"message\").append(message)\n",
    "        soup=soup.prettify(formatter=None)\n",
    "        soup = soup.replace('\\n', ' ').replace('\\r', ' ').replace('\\t', ' ').replace(\"\\\\'\", \" \\' \").replace('\\'re', \" are\" )\n",
    "\n",
    "        # message\n",
    "        msg = MIMEMultipart() # must reinitialize for each email\n",
    "        msg.set_charset('utf8')\n",
    "        msg['From'] = EMAIL_HOST_USER\n",
    "        msg['Subject'] = subject\n",
    "        msg['Date'] = formatdate(localtime=True)\n",
    "        msg['To'] = email\n",
    "        msg.attach(MIMEText(str(soup), 'html'))\n",
    "\n",
    "        # send\n",
    "        SERVER = smtplib.SMTP(EMAIL_HOST, EMAIL_PORT)\n",
    "        SERVER.connect(EMAIL_HOST, EMAIL_PORT)\n",
    "        SERVER.starttls()\n",
    "        SERVER.login(EMAIL_HOST_USER, EMAIL_HOST_PASSWORD)\n",
    "        SERVER.sendmail(\n",
    "                EMAIL_HOST_USER,\n",
    "                email,\n",
    "                msg.as_string()\n",
    "            )\n",
    "        print('Email sent to ' + email) # print this, in case server disconnects and you can resume from where it is left."
   ],
   "metadata": {
    "collapsed": false,
    "pycharm": {
     "name": "#%%\n"
    }
   }
  },
  {
   "cell_type": "code",
   "execution_count": null,
   "outputs": [],
   "source": [],
   "metadata": {
    "collapsed": false,
    "pycharm": {
     "name": "#%%\n"
    }
   }
  }
 ],
 "metadata": {
  "kernelspec": {
   "name": "pycharm-ace65ce4",
   "language": "python",
   "display_name": "PyCharm (CAS)"
  },
  "language_info": {
   "codemirror_mode": {
    "name": "ipython",
    "version": 2
   },
   "file_extension": ".py",
   "mimetype": "text/x-python",
   "name": "python",
   "nbconvert_exporter": "python",
   "pygments_lexer": "ipython2",
   "version": "2.7.6"
  }
 },
 "nbformat": 4,
 "nbformat_minor": 0
}