{
 "cells": [
  {
   "cell_type": "code",
   "execution_count": 1,
   "metadata": {
    "collapsed": true
   },
   "outputs": [],
   "source": [
    "import pandas as pd\n",
    "import numpy as np\n",
    "import http.client\n",
    "import requests\n",
    "import json\n",
    "from dotenv import load_dotenv\n",
    "import os"
   ]
  },
  {
   "cell_type": "code",
   "execution_count": 2,
   "outputs": [
    {
     "data": {
      "text/plain": "True"
     },
     "execution_count": 2,
     "metadata": {},
     "output_type": "execute_result"
    }
   ],
   "source": [
    "# load environmental variables containing ZOOM tokens\n",
    "load_dotenv('.env')"
   ],
   "metadata": {
    "collapsed": false,
    "pycharm": {
     "name": "#%%\n"
    }
   }
  },
  {
   "cell_type": "markdown",
   "source": [
    "# Tokens and  Constants"
   ],
   "metadata": {
    "collapsed": false,
    "pycharm": {
     "name": "#%% md\n"
    }
   }
  },
  {
   "cell_type": "code",
   "execution_count": 3,
   "outputs": [],
   "source": [
    "# JWT token valid till 04/18/2022\n",
    "token = os.getenv('ZOOM_JWT_TOKEN')\n",
    "\n",
    "# cas main account user\n",
    "user_id = os.getenv('ZOOM_USER_ID')\n",
    "\n",
    "# general header using the jwt token\n",
    "headers = {\n",
    "    'authorization': \"Bearer \"+token,\n",
    "    'content-type': \"application/json\"\n",
    "}"
   ],
   "metadata": {
    "collapsed": false,
    "pycharm": {
     "name": "#%%\n"
    }
   }
  },
  {
   "cell_type": "markdown",
   "source": [
    "# List User\n",
    "This is where you get the user ID"
   ],
   "metadata": {
    "collapsed": false,
    "pycharm": {
     "name": "#%% md\n"
    }
   }
  },
  {
   "cell_type": "code",
   "execution_count": 6,
   "outputs": [],
   "source": [
    "conn = http.client.HTTPSConnection(\"api.zoom.us\")\n",
    "conn.request(\"GET\", \"/v2/users?status=active&page_size=30&page_number=1\", headers=headers)\n",
    "\n",
    "res = conn.getresponse()\n",
    "data = res.read()\n",
    "\n",
    "# print(data.decode(\"utf-8\"))"
   ],
   "metadata": {
    "collapsed": false,
    "pycharm": {
     "name": "#%%\n"
    }
   }
  },
  {
   "cell_type": "markdown",
   "source": [
    "# Webinars"
   ],
   "metadata": {
    "collapsed": false,
    "pycharm": {
     "name": "#%% md\n"
    }
   }
  },
  {
   "cell_type": "markdown",
   "source": [
    "## List webinar"
   ],
   "metadata": {
    "collapsed": false,
    "pycharm": {
     "name": "#%% md\n"
    }
   }
  },
  {
   "cell_type": "code",
   "execution_count": 7,
   "outputs": [],
   "source": [
    "url = 'https://api.zoom.us/v2/users/{userId}/webinars'.format(userId=user_id)\n",
    "data = requests.get(\n",
    "    url = url,\n",
    "    headers =headers\n",
    ")\n",
    "data_json = data.json()\n",
    "# print(json.dumps(data_json, indent=4))"
   ],
   "metadata": {
    "collapsed": false,
    "pycharm": {
     "name": "#%%\n"
    }
   }
  },
  {
   "cell_type": "markdown",
   "source": [
    "## List Webinar Registrants"
   ],
   "metadata": {
    "collapsed": false,
    "pycharm": {
     "name": "#%% md\n"
    }
   }
  },
  {
   "cell_type": "code",
   "execution_count": 8,
   "outputs": [],
   "source": [
    "# List webinar registrants\n",
    "webinar_id = 96528400763\n",
    "url = 'https://api.zoom.us/v2/webinars/{webinarId}/registrants'.format(webinarId=webinar_id)\n",
    "params = {\n",
    "    'page_size':300, # max page size is 300,\n",
    "}\n",
    "# initiate a list of registrants\n",
    "registrants = []\n",
    "\n",
    "# if there is a next page token returned, this means that there is additional informaiton you need call using the next-page token. If there the next page token is an empty string, then you have retrieved all data\n",
    "next_page_token = None\n",
    "\n",
    "while next_page_token !='':\n",
    "\n",
    "    # if this is not the initial run (where next_page_token is None), then add next_page_token parameter\n",
    "    if next_page_token is not None:\n",
    "        params['next_page_token'] = next_page_token\n",
    "\n",
    "    data = requests.get(\n",
    "        url = url,\n",
    "        headers =headers,\n",
    "        params=params\n",
    "    )\n",
    "    data_json = data.json()\n",
    "\n",
    "    # retrieve next page token\n",
    "    next_page_token = data_json['next_page_token']\n",
    "\n",
    "    # add registrants to list\n",
    "    registrants += (data_json['registrants'])\n",
    "\n",
    "# double check that the length you retrieved is equal to total number of registrants\n",
    "assert len(registrants) == data_json['total_records'], 'ERROR: The number of registrants you retrieved is ' + str(len(registrants)) + ', but the JSON returned ' + str(data_json['total_records']) +' records.'\n",
    "# print(json.dumps(data_json, indent=4))"
   ],
   "metadata": {
    "collapsed": false,
    "pycharm": {
     "name": "#%%\n"
    }
   }
  },
  {
   "cell_type": "code",
   "execution_count": 9,
   "outputs": [
    {
     "name": "stdout",
     "output_type": "stream",
     "text": [
      "Total registrants:  575\n"
     ]
    }
   ],
   "source": [
    "# conver to pandas dataframe\n",
    "first_name = []\n",
    "last_name = []\n",
    "email = []\n",
    "\n",
    "for record in registrants:\n",
    "    try:\n",
    "        first_name.append(record['first_name'])\n",
    "    except:\n",
    "        first_name.append(np.nan)\n",
    "    try:\n",
    "        last_name.append(record['last_name'])\n",
    "    except:\n",
    "        last_name.append(np.nan)\n",
    "    try:\n",
    "        email.append(record['email'])\n",
    "    except:\n",
    "        email.append(np.nan)\n",
    "\n",
    "df = pd.DataFrame(\n",
    "    {\n",
    "        'first_name': first_name,\n",
    "        'last_name': last_name,\n",
    "        'email': email\n",
    "    }\n",
    ")\n",
    "\n",
    "# check to see if email contains null value\n",
    "print(\"Total registrants: \", df.shape[0])\n",
    "\n",
    "# export records where email is not null\n",
    "df_clean = df[pd.notna(df.email)]\n",
    "df_clean.to_csv('cas-data/050821-adc-registrants.csv', index=False)"
   ],
   "metadata": {
    "collapsed": false,
    "pycharm": {
     "name": "#%%\n"
    }
   }
  },
  {
   "cell_type": "markdown",
   "source": [
    "## Register new webinar"
   ],
   "metadata": {
    "collapsed": false,
    "pycharm": {
     "name": "#%% md\n"
    }
   }
  },
  {
   "cell_type": "code",
   "execution_count": 12,
   "outputs": [
    {
     "data": {
      "text/plain": "{'registrant_id': 'H_aFXiKSRGaQ39nGh7aTUg',\n 'id': 99602079275,\n 'topic': 'test webinar - please keep this - I am using it to test new webiste',\n 'start_time': '2021-07-23T03:00:00Z',\n 'join_url': 'https://zoom.us/w/99602079275?tk=9g4wzLwpanGIzrbRTrBSODSmdTQ7HHxQxG8h1Fe7vPY.DQIAAAAXML8eKxZIX2FGWGlLU1JHYVEzOW5HaDdhVFVnAAAAAAAAAAAAAAAAAAAAAAAAAAAA&pwd=bXhPbTZtWXRYQUFtT3VnQXY2VEhXdz09&uuid=WN_BcXegKDJRrmAHII1xG6oGg'}"
     },
     "execution_count": 12,
     "metadata": {},
     "output_type": "execute_result"
    }
   ],
   "source": [
    "first_name = 'Melanie'\n",
    "last_name = 'Wu'\n",
    "email_1 = 'myemail@gmail.com'\n",
    "webinar_id = '99602079275' ## test webinar\n",
    "\n",
    "url = 'https://api.zoom.us/v2/webinars/{webinarId}/registrants'.format(webinarId=webinar_id)\n",
    "\n",
    "headers = {\n",
    "    'authorization': \"Bearer \"+token,\n",
    "    'content-type': \"application/json\"\n",
    "}\n",
    "\n",
    "data = {\n",
    "    \"email\": email_1,\n",
    "    \"first_name\": first_name,\n",
    "    \"last_name\": last_name\n",
    "}\n",
    "\n",
    "#change dictionary into a json object/string\n",
    "json_data = json.dumps(data)\n",
    "\n",
    "response = requests.request(\"POST\", url, data=json_data, headers=headers)\n",
    "\n",
    "response.json()"
   ],
   "metadata": {
    "collapsed": false,
    "pycharm": {
     "name": "#%%\n"
    }
   }
  },
  {
   "cell_type": "code",
   "execution_count": 9,
   "outputs": [
    {
     "name": "stdout",
     "output_type": "stream",
     "text": [
      "{\"registrant_id\":\"H_aFXiKSRGaQ39nGh7aTUg\",\"id\":99602079275,\"topic\":\"test webinar - please keep this - I am using it to test new webiste\",\"start_time\":\"2021-07-23T03:00:00Z\",\"join_url\":\"https://zoom.us/w/99602079275?tk=9g4wzLwpanGIzrbRTrBSODSmdTQ7HHxQxG8h1Fe7vPY.DQIAAAAXML8eKxZIX2FGWGlLU1JHYVEzOW5HaDdhVFVnAAAAAAAAAAAAAAAAAAAAAAAAAAAA&pwd=bXhPbTZtWXRYQUFtT3VnQXY2VEhXdz09&uuid=WN_BcXegKDJRrmAHII1xG6oGg\"}\n"
     ]
    }
   ],
   "source": [
    "print(response.text)\n"
   ],
   "metadata": {
    "collapsed": false,
    "pycharm": {
     "name": "#%%\n"
    }
   }
  },
  {
   "cell_type": "code",
   "execution_count": null,
   "outputs": [],
   "source": [],
   "metadata": {
    "collapsed": false,
    "pycharm": {
     "name": "#%%\n"
    }
   }
  }
 ],
 "metadata": {
  "kernelspec": {
   "name": "pycharm-ace65ce4",
   "language": "python",
   "display_name": "PyCharm (CAS)"
  },
  "language_info": {
   "codemirror_mode": {
    "name": "ipython",
    "version": 2
   },
   "file_extension": ".py",
   "mimetype": "text/x-python",
   "name": "python",
   "nbconvert_exporter": "python",
   "pygments_lexer": "ipython2",
   "version": "2.7.6"
  }
 },
 "nbformat": 4,
 "nbformat_minor": 0
}